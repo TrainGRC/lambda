{
 "cells": [
  {
   "attachments": {},
   "cell_type": "markdown",
   "metadata": {},
   "source": [
    "# Mockup of Users Table"
   ]
  },
  {
   "cell_type": "code",
   "execution_count": null,
   "metadata": {},
   "outputs": [],
   "source": [
    "# Set up the environment with AWS credentials\n",
    "import boto3\n",
    "import uuid\n",
    "session = boto3.Session(profile_name='default', region_name='us-east-1')\n",
    "ddb = session.resource('dynamodb')\n",
    "dynamo = session.client('dynamodb')\n",
    "\n",
    "# Define the table name\n",
    "table_name = 'users'\n",
    "\n",
    "# Create the table\n",
    "table = ddb.create_table(\n",
    "    TableName=table_name,\n",
    "    KeySchema=[\n",
    "        {\n",
    "            'AttributeName': 'email',\n",
    "            'KeyType': 'HASH'\n",
    "        },\n",
    "        {\n",
    "            'AttributeName': 'username',\n",
    "            'KeyType': 'RANGE'\n",
    "        }\n",
    "    ],\n",
    "    AttributeDefinitions=[\n",
    "        {\n",
    "            'AttributeName': 'email',\n",
    "            'AttributeType': 'S'\n",
    "        },\n",
    "        {\n",
    "            'AttributeName': 'username',\n",
    "            'AttributeType': 'S'\n",
    "        }\n",
    "    ],\n",
    "    ProvisionedThroughput={\n",
    "        'ReadCapacityUnits': 5,\n",
    "        'WriteCapacityUnits': 5\n",
    "    }\n",
    ")\n",
    "\n",
    "print(table.table_status)\n",
    "\n",
    "# Wait until the table exists.\n",
    "table.meta.client.get_waiter('table_exists').wait(TableName=table_name)\n",
    "print(table.table_status)"
   ]
  },
  {
   "cell_type": "code",
   "execution_count": null,
   "metadata": {},
   "outputs": [],
   "source": [
    "# Add a user\n",
    "user1 = table.put_item(\n",
    "    Item={\n",
    "        'user_id': str(uuid.uuid4().hex),\n",
    "        'profile_image': 's3:/stinkbait/static/img/users/bsmith.png',\n",
    "        'email': 'bsmith@gmail.com',\n",
    "        'username': 'bsmith',\n",
    "        'first_name': 'Bob',\n",
    "        'last_name': 'Smith',\n",
    "        'address': '123 Main St.',\n",
    "        'city': 'Anytown',\n",
    "        'state': 'TX',\n",
    "        'zip': '12345',\n",
    "        'country': 'USA',\n",
    "        'phone': '123-456-7890',\n",
    "        'age': 35,\n",
    "        'account_type': 'standard_user',\n",
    "        'organizations': ['org1', 'org2'],\n",
    "        'campaigns': ['camp1', 'camp2'],\n",
    "        'targets': ['target1', 'target2'],\n",
    "        'implants': ['implant1', 'implant2']\n",
    "    }\n",
    ")\n",
    "\n",
    "print(user1)"
   ]
  },
  {
   "cell_type": "code",
   "execution_count": null,
   "metadata": {},
   "outputs": [],
   "source": [
    "# Get a user\n",
    "get_user1 = table.get_item(\n",
    "    TableName = table_name,\n",
    "    Key={\n",
    "        'email': 'bsmith@gmail.com',\n",
    "        'username': 'bsmith'\n",
    "    }\n",
    ")\n",
    "print(get_user1['Item'])"
   ]
  },
  {
   "cell_type": "code",
   "execution_count": null,
   "metadata": {},
   "outputs": [],
   "source": [
    "update_user1 = table.update_item(\n",
    "    Key={\n",
    "        'email': 'bsmith@gmail.com',\n",
    "        'username': 'bsmith'\n",
    "    },\n",
    "    UpdateExpression='SET age = :val1',\n",
    "    ExpressionAttributeValues={\n",
    "        ':val1': 36\n",
    "    }\n",
    ")\n",
    "\n",
    "print(update_user1)"
   ]
  },
  {
   "cell_type": "code",
   "execution_count": null,
   "metadata": {},
   "outputs": [],
   "source": [
    "with table.batch_writer() as batch:\n",
    "    user2 = batch.put_item(\n",
    "        Item={\n",
    "            'user_id': str(uuid.uuid4().hex),\n",
    "            'profile_image': 's3:/stinkbait/static/img/users/wguthrie.png',\n",
    "            'email': 'wguthrie@hotmail.com',\n",
    "            'username': 'wguthrie',\n",
    "            'first_name': 'Woody',\n",
    "            'last_name': 'Guthrie',\n",
    "            'address': '100 American Way',\n",
    "            'city': 'Folk City',\n",
    "            'state': 'OK',\n",
    "            'zip': '32159',\n",
    "            'country': 'USA',\n",
    "            'phone': '+1 270 704 8035',\n",
    "            'age': 137,\n",
    "            'account_type': 'adminstrator',\n",
    "            'organizations': ['verve org', 'rembrandt corp.', 'acme corp.'],\n",
    "            'campaigns': ['holiday campaign', 'summer campaign', 'layoffs campaign', 'election campaign', 'recession campaign'],\n",
    "            'targets': ['jalvarez@gmail.com', 'adamsuwei@hotmail.com', 'chriskringle@yahoo.com', 'bobprince@aol.com', 'gandolf@outlook.com'],\n",
    "            'implants': ['8asd89safdn213das', 'as8fd9dasf13n89adf', '8a789qn13n989jk', 'sd8918sdf0n89adf', 'as89ds8f9fasd9f8df']\n",
    "        }\n",
    "    )\n",
    "    user3 = batch.put_item(\n",
    "        Item={\n",
    "            'user_id': str(uuid.uuid4().hex),\n",
    "            'profile_image': 's3:/stinkbait/static/img/users/sparks.png',\n",
    "            'email': 'sparks@gmail.com',\n",
    "            'username': 'sparks',\n",
    "            'first_name': 'Sarah',\n",
    "            'last_name': 'Parks',\n",
    "            'address': '715 Maple St.',\n",
    "            'city': 'Bridgeport',\n",
    "            'state': 'VA',\n",
    "            'zip': '13578',\n",
    "            'country': 'USA',\n",
    "            'phone': '+1 270 704 8035',\n",
    "            'age': 21,\n",
    "            'account_type': 'standard_user',\n",
    "            'organizations': ['acme corp.', 'rembrandt corp.'],\n",
    "            'campaigns': ['holiday campaign', 'summer campaign', 'layoffs campaign'],\n",
    "            'targets': ['jjabrahms@waldorf.com', 'susanparker@filmore.org', 'r10a@google.com'],\n",
    "            'implants': ['as89q4bn13n89adf', '8a789qn13n989jk', 'sd8918sdf0n89adf']\n",
    "        }\n",
    "    )\n",
    "\n",
    "print(user2, user3)"
   ]
  },
  {
   "attachments": {},
   "cell_type": "markdown",
   "metadata": {},
   "source": [
    "# Query Users table"
   ]
  },
  {
   "cell_type": "code",
   "execution_count": null,
   "metadata": {},
   "outputs": [],
   "source": [
    "query = table.query(\n",
    "    KeyConditionExpression=boto3.dynamodb.conditions.Key('email').eq('sparks@gmail.com')\n",
    ")\n",
    "print(query['Items'])"
   ]
  },
  {
   "attachments": {},
   "cell_type": "markdown",
   "metadata": {},
   "source": [
    "# Empty table"
   ]
  },
  {
   "cell_type": "code",
   "execution_count": null,
   "metadata": {},
   "outputs": [],
   "source": [
    "# Delete items from the table\n",
    "\n",
    "items = dynamo.scan(\n",
    "    TableName=table_name\n",
    ")\n",
    "print(items['Items'])\n",
    "\n",
    "for item in items['Items']:\n",
    "    print(f'Deleting: {item}[email][S], {item}[username][S]')\n",
    "    table.delete_item(\n",
    "        Key={\n",
    "            'email': item['email']['S'],\n",
    "            'username': item['username']['S']\n",
    "        }\n",
    "    )"
   ]
  },
  {
   "attachments": {},
   "cell_type": "markdown",
   "metadata": {},
   "source": [
    "# Delete the table"
   ]
  },
  {
   "cell_type": "code",
   "execution_count": null,
   "metadata": {},
   "outputs": [],
   "source": [
    "delete_response = dynamo.delete_table(\n",
    "    TableName=table_name\n",
    ")\n",
    "print(delete_response)"
   ]
  }
 ],
 "metadata": {
  "kernelspec": {
   "display_name": "Python 3",
   "language": "python",
   "name": "python3"
  },
  "language_info": {
   "codemirror_mode": {
    "name": "ipython",
    "version": 3
   },
   "file_extension": ".py",
   "mimetype": "text/x-python",
   "name": "python",
   "nbconvert_exporter": "python",
   "pygments_lexer": "ipython3",
   "version": "3.11.2"
  },
  "orig_nbformat": 4,
  "vscode": {
   "interpreter": {
    "hash": "b0fa6594d8f4cbf19f97940f81e996739fb7646882a419484c72d19e05852a7e"
   }
  }
 },
 "nbformat": 4,
 "nbformat_minor": 2
}
