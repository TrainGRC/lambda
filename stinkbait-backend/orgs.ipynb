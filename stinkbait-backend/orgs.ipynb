{
 "cells": [
  {
   "cell_type": "code",
   "execution_count": null,
   "metadata": {},
   "outputs": [],
   "source": [
    "# Mockup of Orgs Table"
   ]
  },
  {
   "cell_type": "code",
   "execution_count": null,
   "metadata": {},
   "outputs": [],
   "source": [
    "# Set up the environment with AWS credentials\n",
    "import boto3\n",
    "import uuid\n",
    "session = boto3.Session(profile_name='default', region_name='us-east-1')\n",
    "ddb = session.resource('dynamodb')\n",
    "dynamo = session.client('dynamodb')\n",
    "\n",
    "# Define the table name\n",
    "table_name = 'orgs'\n",
    "\n",
    "# Create the table\n",
    "table = ddb.create_table(\n",
    "    TableName=table_name,\n",
    "    KeySchema=[\n",
    "        {\n",
    "            'AttributeName': 'org_name',\n",
    "            'KeyType': 'HASH'\n",
    "        }\n",
    "    ],\n",
    "    AttributeDefinitions=[\n",
    "        {\n",
    "            'AttributeName': 'org_name',\n",
    "            'AttributeType': 'S'\n",
    "        }\n",
    "    ],\n",
    "    ProvisionedThroughput={\n",
    "        'ReadCapacityUnits': 5,\n",
    "        'WriteCapacityUnits': 5\n",
    "    }\n",
    ")\n",
    "\n",
    "print(table.table_status)\n",
    "\n",
    "# Wait until the table exists.\n",
    "table.meta.client.get_waiter('table_exists').wait(TableName=table_name)\n",
    "print(table.table_status)"
   ]
  },
  {
   "attachments": {},
   "cell_type": "markdown",
   "metadata": {},
   "source": [
    "# Add Org to Table"
   ]
  },
  {
   "cell_type": "code",
   "execution_count": null,
   "metadata": {},
   "outputs": [],
   "source": [
    "# Add a org\n",
    "org1 = table.put_item(\n",
    "    Item={\n",
    "        'org_id': str(uuid.uuid4().hex),\n",
    "        'org_name': 'acme corp',\n",
    "        'org_logo': 's3:/stinkbait/static/img/orgs/acmecorp.png',\n",
    "        'domains': ['acme.com', 'acmecorp.com'],\n",
    "        'email_pattern': 'first.last@acme.com',\n",
    "        'hq_address': '123 Main St.',\n",
    "        'city': 'Anytown',\n",
    "        'state': 'TX',\n",
    "        'zip': '12345',\n",
    "        'country': 'USA',\n",
    "        'phone': '123-456-7890',\n",
    "        'subsidiaries': ['subsidiary1', 'subsidiary2'],\n",
    "        'targets': ['target1', 'target2'],\n",
    "        'campaigns': ['camp1', 'camp2'],\n",
    "        'implants': ['implant1', 'implant2'],\n",
    "        'public_co': 'false'\n",
    "    }\n",
    ")\n",
    "\n",
    "print(org1)"
   ]
  },
  {
   "attachments": {},
   "cell_type": "markdown",
   "metadata": {},
   "source": [
    "# Get the Org Info"
   ]
  },
  {
   "cell_type": "code",
   "execution_count": null,
   "metadata": {},
   "outputs": [],
   "source": [
    "query = table.query(\n",
    "    KeyConditionExpression=boto3.dynamodb.conditions.Key('org_name').eq('acme corp')\n",
    ")\n",
    "print(query['Items'])"
   ]
  },
  {
   "cell_type": "code",
   "execution_count": null,
   "metadata": {},
   "outputs": [],
   "source": [
    "remove = dynamo.delete_table(TableName=table_name)"
   ]
  }
 ],
 "metadata": {
  "kernelspec": {
   "display_name": "Python 3",
   "language": "python",
   "name": "python3"
  },
  "language_info": {
   "codemirror_mode": {
    "name": "ipython",
    "version": 3
   },
   "file_extension": ".py",
   "mimetype": "text/x-python",
   "name": "python",
   "nbconvert_exporter": "python",
   "pygments_lexer": "ipython3",
   "version": "3.11.2"
  },
  "orig_nbformat": 4,
  "vscode": {
   "interpreter": {
    "hash": "b0fa6594d8f4cbf19f97940f81e996739fb7646882a419484c72d19e05852a7e"
   }
  }
 },
 "nbformat": 4,
 "nbformat_minor": 2
}
