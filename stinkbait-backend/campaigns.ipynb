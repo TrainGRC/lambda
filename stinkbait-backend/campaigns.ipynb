{
 "cells": [
  {
   "cell_type": "code",
   "execution_count": null,
   "metadata": {},
   "outputs": [],
   "source": [
    "# Mockup of Orgs Table"
   ]
  },
  {
   "cell_type": "code",
   "execution_count": 2,
   "metadata": {},
   "outputs": [
    {
     "name": "stdout",
     "output_type": "stream",
     "text": [
      "CREATING\n",
      "CREATING\n"
     ]
    }
   ],
   "source": [
    "# Set up the environment with AWS credentials\n",
    "import boto3\n",
    "import uuid\n",
    "session = boto3.Session(profile_name='default', region_name='us-east-1')\n",
    "ddb = session.resource('dynamodb')\n",
    "dynamo = session.client('dynamodb')\n",
    "\n",
    "# Define the table name\n",
    "table_name = 'campaigns'\n",
    "\n",
    "# Create the table\n",
    "table = ddb.create_table(\n",
    "    TableName=table_name,\n",
    "    KeySchema=[\n",
    "        {\n",
    "            'AttributeName': 'campaign_name',\n",
    "            'KeyType': 'HASH'\n",
    "        },\n",
    "        {\n",
    "            'AttributeName': 'org_name',\n",
    "            'KeyType': 'RANGE'\n",
    "        }\n",
    "    ],\n",
    "    AttributeDefinitions=[\n",
    "        {\n",
    "            'AttributeName': 'campaign_name',\n",
    "            'AttributeType': 'S'\n",
    "        },\n",
    "        {\n",
    "            'AttributeName': 'org_name',\n",
    "            'AttributeType': 'S'\n",
    "        }\n",
    "    ],\n",
    "    ProvisionedThroughput={\n",
    "        'ReadCapacityUnits': 5,\n",
    "        'WriteCapacityUnits': 5\n",
    "    }\n",
    ")\n",
    "\n",
    "print(table.table_status)\n",
    "\n",
    "# Wait until the table exists.\n",
    "table.meta.client.get_waiter('table_exists').wait(TableName=table_name)\n",
    "print(table.table_status)"
   ]
  },
  {
   "attachments": {},
   "cell_type": "markdown",
   "metadata": {},
   "source": [
    "# Add Campaign to Table"
   ]
  },
  {
   "cell_type": "code",
   "execution_count": 3,
   "metadata": {},
   "outputs": [
    {
     "name": "stdout",
     "output_type": "stream",
     "text": [
      "{'ResponseMetadata': {'RequestId': '01HB016IR6TPM6LNSDAV68VRNFVV4KQNSO5AEMVJF66Q9ASUAAJG', 'HTTPStatusCode': 200, 'HTTPHeaders': {'server': 'Server', 'date': 'Sun, 05 Mar 2023 13:25:57 GMT', 'content-type': 'application/x-amz-json-1.0', 'content-length': '2', 'connection': 'keep-alive', 'x-amzn-requestid': '01HB016IR6TPM6LNSDAV68VRNFVV4KQNSO5AEMVJF66Q9ASUAAJG', 'x-amz-crc32': '2745614147'}, 'RetryAttempts': 0}}\n"
     ]
    }
   ],
   "source": [
    "# Add a org\n",
    "org1 = table.put_item(\n",
    "    Item={\n",
    "        'campaign_id': str(uuid.uuid4().hex),\n",
    "        'campaign_name': 'holiday campaign',\n",
    "        'campaign_template': 'credentials_phishing',\n",
    "        'org_name': 'acme corp',\n",
    "        'domain': 'acme.com',\n",
    "        'landing_page': True,\n",
    "        'landing_page_url': 'https://acme.com',\n",
    "        'email_campaign': True,\n",
    "        'email_template': 'email_template1',\n",
    "        'campaign_start_date': '2020-01-01',\n",
    "        'campaign_end_date': '2020-01-31',\n",
    "        'campaign_status': 'active',\n",
    "        'targets': ['target1', 'target2'],\n",
    "        'payload': 's3://payloads/credentials_phishing.html',\n",
    "        'public': 'false'\n",
    "    }\n",
    ")\n",
    "\n",
    "print(org1)"
   ]
  },
  {
   "attachments": {},
   "cell_type": "markdown",
   "metadata": {},
   "source": [
    "# Get the Campaign Info"
   ]
  },
  {
   "cell_type": "code",
   "execution_count": 4,
   "metadata": {},
   "outputs": [
    {
     "name": "stdout",
     "output_type": "stream",
     "text": [
      "[{'email_template': 'email_template1', 'campaign_status': 'active', 'campaign_end_date': '2020-01-31', 'public': 'false', 'landing_page_url': 'https://acme.com', 'campaign_id': '2a3b74b22a3b4d2a81867cf4da27a09a', 'campaign_name': 'holiday campaign', 'payload': 's3://payloads/credentials_phishing.html', 'targets': ['target1', 'target2'], 'campaign_start_date': '2020-01-01', 'email_campaign': True, 'landing_page': True, 'campaign_template': 'credentials_phishing', 'org_name': 'acme corp', 'domain': 'acme.com'}]\n"
     ]
    }
   ],
   "source": [
    "query = table.query(\n",
    "    KeyConditionExpression=boto3.dynamodb.conditions.Key('campaign_name').eq('holiday campaign')\n",
    ")\n",
    "print(query['Items'])"
   ]
  },
  {
   "cell_type": "code",
   "execution_count": null,
   "metadata": {},
   "outputs": [],
   "source": [
    "remove = dynamo.delete_table(TableName=table_name)"
   ]
  }
 ],
 "metadata": {
  "kernelspec": {
   "display_name": "Python 3",
   "language": "python",
   "name": "python3"
  },
  "language_info": {
   "codemirror_mode": {
    "name": "ipython",
    "version": 3
   },
   "file_extension": ".py",
   "mimetype": "text/x-python",
   "name": "python",
   "nbconvert_exporter": "python",
   "pygments_lexer": "ipython3",
   "version": "3.11.2 (main, Feb 16 2023, 02:55:59) [Clang 14.0.0 (clang-1400.0.29.202)]"
  },
  "orig_nbformat": 4,
  "vscode": {
   "interpreter": {
    "hash": "b0fa6594d8f4cbf19f97940f81e996739fb7646882a419484c72d19e05852a7e"
   }
  }
 },
 "nbformat": 4,
 "nbformat_minor": 2
}
